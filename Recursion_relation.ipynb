{
 "cells": [
  {
   "cell_type": "markdown",
   "id": "3eefb5d1",
   "metadata": {},
   "source": [
    "Question 1 :-  Find the value of T(2) for the recurrence relation T(n) = 3T(n-1) + 12n, given that T(0)=5.\n",
    "\n",
    "T(n)=3T(n−1)+12n\n",
    "\n",
    "We need to find T(2)\n",
    "\n",
    "computing T(1):\n",
    "T(1) = 3T(0)+12.1 = 3.5 + 12 = 15 + 12 = 27\n",
    "\n",
    "computing T(2):\n",
    "T(2) = 3T(1)+12.2 = 3.27 + 12.2 = 81 + 24 = 105 \n",
    "\n",
    "so T(2) = 105"
   ]
  },
  {
   "cell_type": "markdown",
   "id": "c885f3fa",
   "metadata": {},
   "source": []
  }
 ],
 "metadata": {
  "kernelspec": {
   "display_name": "Python 3 (ipykernel)",
   "language": "python",
   "name": "python3"
  },
  "language_info": {
   "codemirror_mode": {
    "name": "ipython",
    "version": 3
   },
   "file_extension": ".py",
   "mimetype": "text/x-python",
   "name": "python",
   "nbconvert_exporter": "python",
   "pygments_lexer": "ipython3",
   "version": "3.11.3"
  }
 },
 "nbformat": 4,
 "nbformat_minor": 5
}
